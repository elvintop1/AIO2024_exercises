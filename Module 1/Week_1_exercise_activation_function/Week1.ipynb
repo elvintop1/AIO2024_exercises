{
  "nbformat": 4,
  "nbformat_minor": 0,
  "metadata": {
    "colab": {
      "provenance": [],
      "authorship_tag": "ABX9TyN5CA26XNRv7UwZG2r0Aueo",
      "include_colab_link": true
    },
    "kernelspec": {
      "name": "python3",
      "display_name": "Python 3"
    },
    "language_info": {
      "name": "python"
    }
  },
  "cells": [
    {
      "cell_type": "markdown",
      "metadata": {
        "id": "view-in-github",
        "colab_type": "text"
      },
      "source": [
        "<a href=\"https://colab.research.google.com/github/elvintop1/AIO2024_exercises/blob/features%2Fweek_1_activate_function/Module%201/Week_1_exercise_activation_function/Week1.ipynb\" target=\"_parent\"><img src=\"https://colab.research.google.com/assets/colab-badge.svg\" alt=\"Open In Colab\"/></a>"
      ]
    },
    {
      "cell_type": "markdown",
      "source": [
        "Question 1"
      ],
      "metadata": {
        "id": "ZV8tA_s0n_sW"
      }
    },
    {
      "cell_type": "code",
      "execution_count": 1,
      "metadata": {
        "colab": {
          "base_uri": "https://localhost:8080/"
        },
        "id": "wwL7Sr76n5Pu",
        "outputId": "afab11b4-3eca-4e4f-f7b1-243008bd1dec"
      },
      "outputs": [
        {
          "output_type": "stream",
          "name": "stdout",
          "text": [
            "0.31\n"
          ]
        }
      ],
      "source": [
        "import math\n",
        "\n",
        "def calc_f1_score(tp, fp, fn):\n",
        "    if tp + fp == 0 or tp + fn == 0:\n",
        "        return 0.0  # Handle edge case where there is no positive prediction or no true positive\n",
        "    precision = tp / (tp + fp)\n",
        "    recall = tp / (tp + fn)\n",
        "    if precision + recall == 0:\n",
        "        return 0.0  # Handle edge case where precision and recall are both zero\n",
        "    f1_score = 2 * (precision * recall) / (precision + recall)\n",
        "    return f1_score\n",
        "\n",
        "# Test cases\n",
        "assert round(calc_f1_score(tp=2, fp=3, fn=5), 2) == 0.33\n",
        "print(round(calc_f1_score(tp=2, fp=4, fn=5), 2))"
      ]
    },
    {
      "cell_type": "markdown",
      "source": [
        "Question 2"
      ],
      "metadata": {
        "id": "UH6n0RwooDfG"
      }
    },
    {
      "cell_type": "code",
      "source": [
        "import math\n",
        "\n",
        "def is_number(n):\n",
        "    try:\n",
        "        float(n)\n",
        "        return True\n",
        "    except ValueError:\n",
        "        return False\n",
        "\n",
        "# Test cases\n",
        "assert is_number(3) == True\n",
        "assert is_number('-2a') == False\n",
        "print(is_number(1))\n",
        "print(is_number('n'))"
      ],
      "metadata": {
        "colab": {
          "base_uri": "https://localhost:8080/"
        },
        "id": "JUZ4hkPvoU7w",
        "outputId": "3e4df63f-7f2d-47d6-ac6c-eb2d2fd9501d"
      },
      "execution_count": 2,
      "outputs": [
        {
          "output_type": "stream",
          "name": "stdout",
          "text": [
            "True\n",
            "False\n"
          ]
        }
      ]
    },
    {
      "cell_type": "markdown",
      "source": [
        "Question 4"
      ],
      "metadata": {
        "id": "Kpimg8aSoV4H"
      }
    },
    {
      "cell_type": "code",
      "source": [
        "import math\n",
        "\n",
        "def calc_sig(x):\n",
        "    return 1 / (1 + math.exp(-x))\n",
        "\n",
        "# Test cases\n",
        "assert round(calc_sig(3), 2) == 0.95\n",
        "print(round(calc_sig(2), 2))"
      ],
      "metadata": {
        "colab": {
          "base_uri": "https://localhost:8080/"
        },
        "id": "0wsqa7AxtEtr",
        "outputId": "e1497f1f-6f36-4c55-9512-5296aa22e733"
      },
      "execution_count": 3,
      "outputs": [
        {
          "output_type": "stream",
          "name": "stdout",
          "text": [
            "0.88\n"
          ]
        }
      ]
    },
    {
      "cell_type": "markdown",
      "source": [
        "Question 5"
      ],
      "metadata": {
        "id": "Usuo40V3tJl2"
      }
    },
    {
      "cell_type": "code",
      "source": [
        "import math\n",
        "\n",
        "def calc_elu(x, alpha=0.01):\n",
        "    if x <= 0:\n",
        "        return alpha * (math.exp(x) - 1)\n",
        "    else:\n",
        "        return x\n",
        "\n",
        "# Test cases\n",
        "assert round(calc_elu(1)) == 1\n",
        "print(round(calc_elu(-1), 2))"
      ],
      "metadata": {
        "colab": {
          "base_uri": "https://localhost:8080/"
        },
        "id": "Du6lRyc3tK0g",
        "outputId": "1d84c7f2-e882-4a36-964e-d9413fa6b648"
      },
      "execution_count": 4,
      "outputs": [
        {
          "output_type": "stream",
          "name": "stdout",
          "text": [
            "-0.01\n"
          ]
        }
      ]
    },
    {
      "cell_type": "markdown",
      "source": [
        "Question 6"
      ],
      "metadata": {
        "id": "NcphCRrltNyW"
      }
    },
    {
      "cell_type": "code",
      "source": [
        "import math\n",
        "\n",
        "def calc_activation_func(x, act_name):\n",
        "    if act_name == 'sigmoid':\n",
        "        return 1 / (1 + math.exp(-x))\n",
        "    elif act_name == 'relu':\n",
        "        return max(0, x)\n",
        "    elif act_name == 'elu':\n",
        "        return x if x >= 0 else math.exp(x) - 1\n",
        "    else:\n",
        "        raise ValueError(\"Unsupported activation function\")\n",
        "\n",
        "# Test cases\n",
        "assert calc_activation_func(x=1, act_name='relu') == 1\n",
        "print(round(calc_activation_func(x=3, act_name='sigmoid'), 2))"
      ],
      "metadata": {
        "colab": {
          "base_uri": "https://localhost:8080/"
        },
        "id": "d6ZdMWxVtO5L",
        "outputId": "fc09d858-b801-4b44-972e-67e259c5b40a"
      },
      "execution_count": 5,
      "outputs": [
        {
          "output_type": "stream",
          "name": "stdout",
          "text": [
            "0.95\n"
          ]
        }
      ]
    },
    {
      "cell_type": "markdown",
      "source": [
        "Question 7"
      ],
      "metadata": {
        "id": "d3mBB-WrtTcO"
      }
    },
    {
      "cell_type": "code",
      "source": [
        "def calc_ae(y, y_hat):\n",
        "    return abs(y - y_hat)\n",
        "\n",
        "# Test cases\n",
        "y = 1\n",
        "y_hat = 6\n",
        "assert calc_ae(y, y_hat) == 5\n",
        "\n",
        "y = 2\n",
        "y_hat = 9\n",
        "print(calc_ae(y, y_hat))"
      ],
      "metadata": {
        "colab": {
          "base_uri": "https://localhost:8080/"
        },
        "id": "psN_SDEytVVk",
        "outputId": "de646d30-4324-4fa7-eb1a-8a746cb3daa9"
      },
      "execution_count": 6,
      "outputs": [
        {
          "output_type": "stream",
          "name": "stdout",
          "text": [
            "7\n"
          ]
        }
      ]
    },
    {
      "cell_type": "markdown",
      "source": [
        "Question 8"
      ],
      "metadata": {
        "id": "AHNYJ7_ltZgX"
      }
    },
    {
      "cell_type": "code",
      "source": [
        "def calc_se(y, y_hat):\n",
        "    return (y - y_hat) ** 2\n",
        "\n",
        "# Test cases\n",
        "y = 4\n",
        "y_hat = 2\n",
        "assert calc_se(y, y_hat) == 4\n",
        "\n",
        "print(calc_se(2, 1))"
      ],
      "metadata": {
        "colab": {
          "base_uri": "https://localhost:8080/"
        },
        "id": "GdjfKM39tbOs",
        "outputId": "633cfa58-f426-42f5-d150-11ea5861e117"
      },
      "execution_count": 7,
      "outputs": [
        {
          "output_type": "stream",
          "name": "stdout",
          "text": [
            "1\n"
          ]
        }
      ]
    },
    {
      "cell_type": "markdown",
      "source": [
        "Question 9"
      ],
      "metadata": {
        "id": "_WRS-0W5tgTt"
      }
    },
    {
      "cell_type": "code",
      "source": [
        "import math\n",
        "\n",
        "def approx_cos(x, n):\n",
        "    result = 0\n",
        "    for k in range(n + 1):\n",
        "        term = ((-1)**k) * (x**(2 * k)) / math.factorial(2 * k)\n",
        "        result += term\n",
        "    return result\n",
        "\n",
        "# Test cases\n",
        "assert round(approx_cos(x=1, n=10), 2) == 0.54\n",
        "print(round(approx_cos(x=3.14, n=10), 2))"
      ],
      "metadata": {
        "colab": {
          "base_uri": "https://localhost:8080/"
        },
        "id": "7HMJlUsNthQ_",
        "outputId": "28d7ae51-394f-41c7-ab5a-d1d40f8385be"
      },
      "execution_count": 8,
      "outputs": [
        {
          "output_type": "stream",
          "name": "stdout",
          "text": [
            "-1.0\n"
          ]
        }
      ]
    },
    {
      "cell_type": "markdown",
      "source": [
        "Question 10"
      ],
      "metadata": {
        "id": "Rce0Zpe_tkij"
      }
    },
    {
      "cell_type": "code",
      "source": [
        "import math\n",
        "\n",
        "def approx_sin(x, n):\n",
        "    result = 0\n",
        "    for k in range(n + 1):\n",
        "        term = ((-1)**k) * (x**(2 * k + 1)) / math.factorial(2 * k + 1)\n",
        "        result += term\n",
        "    return result\n",
        "\n",
        "# Test cases\n",
        "assert round(approx_sin(x=1, n=10), 4) == 0.8415\n",
        "print(round(approx_sin(x=3.14, n=10), 4))"
      ],
      "metadata": {
        "colab": {
          "base_uri": "https://localhost:8080/"
        },
        "id": "B6domV_Vtm5o",
        "outputId": "66e98958-eb58-420a-8a03-9882c55700a5"
      },
      "execution_count": 9,
      "outputs": [
        {
          "output_type": "stream",
          "name": "stdout",
          "text": [
            "0.0016\n"
          ]
        }
      ]
    },
    {
      "cell_type": "markdown",
      "source": [
        "Question 11"
      ],
      "metadata": {
        "id": "avdKWbL0tqAD"
      }
    },
    {
      "cell_type": "code",
      "source": [
        "import math\n",
        "\n",
        "def approx_sinh(x, n):\n",
        "    result = 0\n",
        "    for k in range(n + 1):\n",
        "        term = (x**(2 * k + 1)) / math.factorial(2 * k + 1)\n",
        "        result += term\n",
        "    return result\n",
        "\n",
        "# Test cases\n",
        "assert round(approx_sinh(x=1, n=10), 2) == 1.18\n",
        "print(round(approx_sinh(x=3.14, n=10), 2))"
      ],
      "metadata": {
        "colab": {
          "base_uri": "https://localhost:8080/"
        },
        "id": "7LWvMXuNtq-j",
        "outputId": "d0d7ec0c-7a75-4c91-d4dc-090bb1dd2c6e"
      },
      "execution_count": 10,
      "outputs": [
        {
          "output_type": "stream",
          "name": "stdout",
          "text": [
            "11.53\n"
          ]
        }
      ]
    },
    {
      "cell_type": "markdown",
      "source": [
        "Question 12"
      ],
      "metadata": {
        "id": "QA0j_fxYttxv"
      }
    },
    {
      "cell_type": "code",
      "source": [
        "import math\n",
        "\n",
        "def approx_cosh(x, n):\n",
        "    result = 0\n",
        "    for k in range(n + 1):\n",
        "        term = (x**(2 * k)) / math.factorial(2 * k)\n",
        "        result += term\n",
        "    return result\n",
        "\n",
        "# Test cases\n",
        "assert round(approx_cosh(x=1, n=10), 2) == 1.54\n",
        "print(round(approx_cosh(x=3.14, n=10), 2))"
      ],
      "metadata": {
        "colab": {
          "base_uri": "https://localhost:8080/"
        },
        "id": "52hAjgnstvYW",
        "outputId": "dd131630-d72e-4953-9a72-eb835946c498"
      },
      "execution_count": 11,
      "outputs": [
        {
          "output_type": "stream",
          "name": "stdout",
          "text": [
            "11.57\n"
          ]
        }
      ]
    }
  ]
}