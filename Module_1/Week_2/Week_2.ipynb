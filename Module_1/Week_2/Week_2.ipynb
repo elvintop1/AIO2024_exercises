{
 "cells": [
  {
   "cell_type": "markdown",
   "metadata": {},
   "source": [
    "Câu Hỏi Tự Luận"
   ]
  },
  {
   "cell_type": "markdown",
   "metadata": {},
   "source": [
    "Question 1"
   ]
  },
  {
   "cell_type": "code",
   "execution_count": 2,
   "metadata": {},
   "outputs": [],
   "source": [
    "def sliding_window(num_list, size):\n",
    "    result = []\n",
    "    for i in range(len(num_list) - size + 1):\n",
    "        max_element = max(num_list[i:i+size])\n",
    "        result.append(max_element)\n",
    "    return result"
   ]
  },
  {
   "cell_type": "code",
   "execution_count": 3,
   "metadata": {},
   "outputs": [
    {
     "name": "stdout",
     "output_type": "stream",
     "text": [
      "[5, 5, 5, 5, 10, 12, 33, 33]\n"
     ]
    }
   ],
   "source": [
    "num_list = [3, 4, 5, 1, -44, 5, 10, 12, 33, 1]\n",
    "k = 3\n",
    "print(sliding_window(num_list, k))"
   ]
  },
  {
   "cell_type": "markdown",
   "metadata": {},
   "source": [
    "Question 2"
   ]
  },
  {
   "cell_type": "code",
   "execution_count": 5,
   "metadata": {},
   "outputs": [
    {
     "name": "stdout",
     "output_type": "stream",
     "text": [
      "{'H': 1, 'a': 1, 'p': 2, 'i': 1, 'n': 1, 'e': 1, 's': 2}\n",
      "{'s': 2, 'm': 1, 'i': 1, 'l': 1, 'e': 1}\n"
     ]
    }
   ],
   "source": [
    "def count_char(word):\n",
    "    result = {}\n",
    "    for char in word:\n",
    "        if char in result:\n",
    "            result[char] += 1\n",
    "        else:\n",
    "            result[char] = 1\n",
    "\n",
    "    return result\n",
    "\n",
    "word = \"Happiness\"\n",
    "print(count_char(word))\n",
    "word = \"smiles\"\n",
    "print(count_char(word))"
   ]
  },
  {
   "cell_type": "markdown",
   "metadata": {},
   "source": [
    "Question 3"
   ]
  },
  {
   "cell_type": "code",
   "execution_count": 8,
   "metadata": {},
   "outputs": [
    {
     "name": "stdout",
     "output_type": "stream",
     "text": [
      "{'he': 1, 'who': 3, 'conquers': 1, 'himself': 1, 'is': 3, 'the': 5, 'mightiest': 1, 'warrior': 1, 'try': 2, 'not': 1, 'to': 3, 'become': 2, 'a': 7, 'man': 6, 'of': 4, 'success': 3, 'but': 1, 'rather': 1, 'value': 1, 'one': 4, 'with': 4, 'courage': 1, 'makes': 1, 'majority': 1, 'secret': 1, 'in': 4, 'life': 2, 'for': 3, 'be': 1, 'ready': 1, 'his': 2, 'opportunity': 1, 'when': 2, 'it': 2, 'comes': 2, 'successful': 2, 'will': 2, 'profit': 1, 'from': 1, 'mistakes': 1, 'and': 1, 'again': 1, 'different': 1, 'way': 1, 'can': 3, 'lay': 1, 'firm': 1, 'foundation': 1, 'bricks': 1, 'others': 1, 'have': 1, 'thrown': 1, 'at': 1, 'him': 1, 'usually': 1, 'those': 1, 'are': 1, 'too': 1, 'busy': 1, 'looking': 1, 'we': 3, 'cannot': 1, 'solve': 1, 'problems': 1, 'kind': 1, 'thinking': 1, 'employed': 1, 'came': 1, 'up': 1, 'them': 1, 'just': 2, 'small': 1, 'positive': 1, 'thought': 1, 'morning': 1, 'change': 1, 'your': 1, 'whole': 1, 'day': 1, 'you': 3, 'get': 2, 'everything': 1, 'want': 2, 'if': 1, 'help': 1, 'enough': 1, 'other': 1, 'people': 1, 'what': 1, 'they': 1}\n"
     ]
    }
   ],
   "source": [
    "def count_word(file_path):\n",
    "    result = {}\n",
    "    with open(file_path, 'r') as f:\n",
    "        for line in f:\n",
    "            words = line.split()\n",
    "            for word in words:\n",
    "                word = word.lower()\n",
    "                if word in result:\n",
    "                    result[word] += 1\n",
    "                else:\n",
    "                    result[word] = 1\n",
    "    return result\n",
    "\n",
    "print(count_word(\"../Week_2/P1_data.txt\"))"
   ]
  },
  {
   "cell_type": "markdown",
   "metadata": {},
   "source": [
    "Question 4"
   ]
  },
  {
   "cell_type": "code",
   "execution_count": 10,
   "metadata": {},
   "outputs": [
    {
     "name": "stdout",
     "output_type": "stream",
     "text": [
      "Khoảng cách Levenshtein giữa 'flaw' và 'lawn' là 2\n",
      "Khoảng cách Levenshtein giữa 'intention' và 'execution' là 5\n"
     ]
    }
   ],
   "source": [
    "def levenshtein_distance_optimized(S, T):\n",
    "    m, n = len(S), len(T)\n",
    "\n",
    "    if m == 0:\n",
    "        return n\n",
    "    if n == 0:\n",
    "        return m\n",
    "\n",
    "    previous_row = list(range(n + 1))\n",
    "    current_row = [0] * (n + 1)\n",
    "\n",
    "    for i in range(1, m + 1):\n",
    "        current_row[0] = i\n",
    "        for j in range(1, n + 1):\n",
    "            if S[i - 1] == T[j - 1]:\n",
    "                current_row[j] = previous_row[j - 1]\n",
    "            else:\n",
    "                current_row[j] = min(previous_row[j] + 1,\n",
    "                                     current_row[j - 1] + 1,\n",
    "                                     previous_row[j - 1] + 1)\n",
    "\n",
    "        previous_row, current_row = current_row, previous_row\n",
    "\n",
    "    return previous_row[n]\n",
    "\n",
    "# Ví dụ 1\n",
    "S1 = \"flaw\"\n",
    "T1 = \"lawn\"\n",
    "distance1 = levenshtein_distance_optimized(S1, T1)\n",
    "print(f\"Khoảng cách Levenshtein giữa '{S1}' và '{T1}' là {distance1}\")\n",
    "\n",
    "# Ví dụ 2\n",
    "S2 = \"intention\"\n",
    "T2 = \"execution\"\n",
    "distance2 = levenshtein_distance_optimized(S2, T2)\n",
    "print(f\"Khoảng cách Levenshtein giữa '{S2}' và '{T2}' là {distance2}\")\n"
   ]
  },
  {
   "cell_type": "markdown",
   "metadata": {},
   "source": [
    "Trắc Nghiệm"
   ]
  },
  {
   "cell_type": "markdown",
   "metadata": {},
   "source": [
    "Question 1"
   ]
  },
  {
   "cell_type": "code",
   "execution_count": 11,
   "metadata": {},
   "outputs": [
    {
     "name": "stdout",
     "output_type": "stream",
     "text": [
      "[5, 5, 5, 5, 10, 12, 33, 33]\n"
     ]
    }
   ],
   "source": [
    "def max_kernel(num_list, k):\n",
    "    result = []\n",
    "    \n",
    "    for i in range(len(num_list) - k + 1):\n",
    "        window = num_list[i:i+k]\n",
    "        result.append(max(window))\n",
    "    \n",
    "    return result\n",
    "\n",
    "assert max_kernel([3, 4, 5, 1, -44], 3) == [5, 5, 5]\n",
    "num_list = [3, 4, 5, 1, -44, 5, 10, 12, 33, 1]\n",
    "k = 3\n",
    "print(max_kernel(num_list, k))\n"
   ]
  },
  {
   "cell_type": "markdown",
   "metadata": {},
   "source": [
    "Question 2"
   ]
  },
  {
   "cell_type": "code",
   "execution_count": 20,
   "metadata": {},
   "outputs": [
    {
     "name": "stdout",
     "output_type": "stream",
     "text": [
      "{'s': 2, 'm': 1, 'i': 1, 'l': 1, 'e': 1}\n"
     ]
    }
   ],
   "source": [
    "def character_count(word):\n",
    "    character_statistic = {}\n",
    "    \n",
    "    for char in word:\n",
    "        if char in character_statistic:\n",
    "            character_statistic[char] += 1\n",
    "        else:\n",
    "            character_statistic[char] = 1\n",
    "    \n",
    "    return character_statistic\n",
    "\n",
    "assert character_count(\"Baby\") == {'B': 1, 'a': 1, 'b': 1, 'y': 1}\n",
    "print(character_count('smiles'))\n"
   ]
  },
  {
   "cell_type": "markdown",
   "metadata": {},
   "source": [
    "Question 3"
   ]
  },
  {
   "cell_type": "code",
   "execution_count": 17,
   "metadata": {},
   "outputs": [
    {
     "name": "stdout",
     "output_type": "stream",
     "text": [
      "6\n"
     ]
    }
   ],
   "source": [
    "import re\n",
    "\n",
    "def count_word(file_path):\n",
    "    counter = {}\n",
    "    \n",
    "    with open(file_path, 'r') as file:\n",
    "        content = file.read()\n",
    "        words = re.findall(r'\\b\\w+\\b', content.lower())\n",
    "        \n",
    "        for word in words:\n",
    "            if word in counter:\n",
    "                counter[word] += 1\n",
    "            else:\n",
    "                counter[word] = 1\n",
    "    \n",
    "    return counter\n",
    "\n",
    "file_path = '../Week_2/P1_data.txt'\n",
    "result = count_word(file_path)\n",
    "assert result['who'] == 3\n",
    "print(result['man'])\n"
   ]
  },
  {
   "cell_type": "markdown",
   "metadata": {},
   "source": [
    "Question 4"
   ]
  },
  {
   "cell_type": "code",
   "execution_count": 21,
   "metadata": {},
   "outputs": [
    {
     "name": "stdout",
     "output_type": "stream",
     "text": [
      "3\n"
     ]
    }
   ],
   "source": [
    "def levenshtein_distance(token1, token2):\n",
    "    n, m = len(token1), len(token2)\n",
    "    if n > m:\n",
    "        token1, token2 = token2, token1\n",
    "        n, m = m, n\n",
    "\n",
    "    current_row = range(n + 1)\n",
    "    for i in range(1, m + 1):\n",
    "        previous_row, current_row = current_row, [i] + [0] * n\n",
    "        for j in range(1, n + 1):\n",
    "            add, delete, change = previous_row[j] + 1, current_row[j - 1] + 1, previous_row[j - 1]\n",
    "            if token1[j - 1] != token2[i - 1]:\n",
    "                change += 1\n",
    "            current_row[j] = min(add, delete, change)\n",
    "\n",
    "    return current_row[n]\n",
    "\n",
    "assert levenshtein_distance(\"hi\", \"hello\") == 4\n",
    "print(levenshtein_distance(\"hola\", \"hello\"))\n"
   ]
  },
  {
   "cell_type": "markdown",
   "metadata": {},
   "source": [
    "Question 5"
   ]
  },
  {
   "cell_type": "code",
   "execution_count": 22,
   "metadata": {},
   "outputs": [
    {
     "name": "stdout",
     "output_type": "stream",
     "text": [
      "True\n"
     ]
    }
   ],
   "source": [
    "def check_the_number(N):\n",
    "    list_of_numbers = []\n",
    "    result = \"\"\n",
    "    for i in range(1, 5):\n",
    "        list_of_numbers.append(i)  # Sử dụng append để thêm i vào trong list_of_numbers\n",
    "\n",
    "    if N in list_of_numbers:\n",
    "        result = \"True\"\n",
    "    if N not in list_of_numbers:\n",
    "        result = \"False\"\n",
    "    return result\n",
    "\n",
    "N = 7\n",
    "assert check_the_number(N) == \"False\"\n",
    "\n",
    "N = 2\n",
    "result = check_the_number(N)\n",
    "print(result)\n"
   ]
  },
  {
   "cell_type": "markdown",
   "metadata": {},
   "source": [
    "Question 6"
   ]
  },
  {
   "cell_type": "code",
   "execution_count": 23,
   "metadata": {},
   "outputs": [
    {
     "name": "stdout",
     "output_type": "stream",
     "text": [
      "[2, 2, 2, 1, 1]\n"
     ]
    }
   ],
   "source": [
    "def my_function(data, max, min):\n",
    "    result = []\n",
    "    for i in data:\n",
    "        if i < min:\n",
    "            result.append(min)  # Nếu i < min thì thêm min vào result\n",
    "        elif i > max:\n",
    "            result.append(max)  # Nếu i > max thì thêm max vào result\n",
    "        else:\n",
    "            result.append(i)\n",
    "    return result\n",
    "\n",
    "my_list = [5, 2, 5, 0, 1]\n",
    "max_val = 1\n",
    "min_val = 0\n",
    "assert my_function(max=max_val, min=min_val, data=my_list) == [1, 1, 1, 0, 1]\n",
    "\n",
    "my_list = [10, 2, 5, 0, 1]\n",
    "max_val = 2\n",
    "min_val = 1\n",
    "print(my_function(max=max_val, min=min_val, data=my_list))\n"
   ]
  },
  {
   "cell_type": "markdown",
   "metadata": {},
   "source": [
    "Question 7"
   ]
  },
  {
   "cell_type": "code",
   "execution_count": 24,
   "metadata": {},
   "outputs": [
    {
     "name": "stdout",
     "output_type": "stream",
     "text": [
      "[1, 2, 3, 4, 0, 0]\n"
     ]
    }
   ],
   "source": [
    "def my_function(x, y):\n",
    "    x.extend(y)  # Sử dụng extend để nối y vào x\n",
    "    return x\n",
    "\n",
    "list_num1 = ['a', 2, 5]\n",
    "list_num2 = [1, 1]\n",
    "list_num3 = [0, 0]\n",
    "\n",
    "assert my_function(list_num1, my_function(list_num2, list_num3)) == ['a', 2, 5, 1, 1, 0, 0]\n",
    "\n",
    "list_num1 = [1, 2]\n",
    "list_num2 = [3, 4]\n",
    "list_num3 = [0, 0]\n",
    "\n",
    "print(my_function(list_num1, my_function(list_num2, list_num3)))\n"
   ]
  },
  {
   "cell_type": "markdown",
   "metadata": {},
   "source": [
    "Question 8"
   ]
  },
  {
   "cell_type": "code",
   "execution_count": 25,
   "metadata": {},
   "outputs": [
    {
     "name": "stdout",
     "output_type": "stream",
     "text": [
      "-1\n"
     ]
    }
   ],
   "source": [
    "def my_function(n):\n",
    "    return min(n)  # Sử dụng hàm min để tìm giá trị nhỏ nhất trong danh sách\n",
    "\n",
    "my_list = [1, 22, 93, -100]\n",
    "assert my_function(my_list) == -100\n",
    "\n",
    "my_list = [1, 2, 3, -1]\n",
    "print(my_function(my_list))\n"
   ]
  },
  {
   "cell_type": "markdown",
   "metadata": {},
   "source": [
    "Question 9"
   ]
  },
  {
   "cell_type": "code",
   "execution_count": 26,
   "metadata": {},
   "outputs": [
    {
     "name": "stdout",
     "output_type": "stream",
     "text": [
      "9\n"
     ]
    }
   ],
   "source": [
    "def my_function(n):\n",
    "    return max(n)  # Sử dụng hàm max để tìm giá trị lớn nhất trong danh sách\n",
    "\n",
    "my_list = [1001, 9, 100, 0]\n",
    "assert my_function(my_list) == 1001\n",
    "\n",
    "my_list = [1, 9, 9, 0]\n",
    "print(my_function(my_list))\n"
   ]
  },
  {
   "cell_type": "markdown",
   "metadata": {},
   "source": [
    "Question 10"
   ]
  },
  {
   "cell_type": "code",
   "execution_count": 27,
   "metadata": {},
   "outputs": [
    {
     "name": "stdout",
     "output_type": "stream",
     "text": [
      "True\n"
     ]
    }
   ],
   "source": [
    "def My_function(integers, number=1):\n",
    "    return any(i == number for i in integers)  # Duyệt từng phần tử trong integers và so sánh với number\n",
    "\n",
    "my_list = [1, 3, 9, 4]\n",
    "assert My_function(my_list, -1) == False\n",
    "\n",
    "my_list = [1, 2, 3, 4]\n",
    "print(My_function(my_list, 2))\n"
   ]
  },
  {
   "cell_type": "markdown",
   "metadata": {},
   "source": [
    "Question 11"
   ]
  },
  {
   "cell_type": "code",
   "execution_count": 28,
   "metadata": {},
   "outputs": [
    {
     "name": "stdout",
     "output_type": "stream",
     "text": [
      "1.0\n"
     ]
    }
   ],
   "source": [
    "def my_function(list_nums=[0, 1, 2]):\n",
    "    var = 0\n",
    "    for i in list_nums:\n",
    "        var += i\n",
    "    return var / len(list_nums)  # Trả về giá trị trung bình của list bằng cách chia var cho số lượng phần tử trong list_nums\n",
    "\n",
    "assert my_function([4, 6, 8]) == 6\n",
    "print(my_function())\n"
   ]
  },
  {
   "cell_type": "markdown",
   "metadata": {},
   "source": [
    "Question 12"
   ]
  },
  {
   "cell_type": "code",
   "execution_count": 29,
   "metadata": {},
   "outputs": [
    {
     "name": "stdout",
     "output_type": "stream",
     "text": [
      "[3, 6]\n"
     ]
    }
   ],
   "source": [
    "def my_function(data):\n",
    "    var = []\n",
    "    for i in data:\n",
    "        if i % 3 == 0:  # Nếu i chia hết cho 3 thì thêm i vào list var\n",
    "            var.append(i)\n",
    "    return var\n",
    "\n",
    "assert my_function([3, 9, 4, 5]) == [3, 9]\n",
    "print(my_function([1, 2, 3, 5, 6]))\n"
   ]
  },
  {
   "cell_type": "markdown",
   "metadata": {},
   "source": [
    "Question 13"
   ]
  },
  {
   "cell_type": "code",
   "execution_count": 30,
   "metadata": {},
   "outputs": [
    {
     "name": "stdout",
     "output_type": "stream",
     "text": [
      "24\n"
     ]
    }
   ],
   "source": [
    "def my_function(y):\n",
    "    var = 1\n",
    "    while y > 1:\n",
    "        var *= y\n",
    "        y -= 1\n",
    "    return var\n",
    "\n",
    "assert my_function(8) == 40320\n",
    "print(my_function(4))\n"
   ]
  },
  {
   "cell_type": "markdown",
   "metadata": {},
   "source": [
    "Question 14"
   ]
  },
  {
   "cell_type": "code",
   "execution_count": 31,
   "metadata": {},
   "outputs": [
    {
     "name": "stdout",
     "output_type": "stream",
     "text": [
      "tocirpa\n"
     ]
    }
   ],
   "source": [
    "def my_function(x):\n",
    "    return x[::-1]  # Đảo ngược chuỗi bằng cách sử dụng slicing\n",
    "\n",
    "x = 'I can do it'\n",
    "assert my_function(x) == \"ti od nac I\"\n",
    "\n",
    "x = 'apricot'\n",
    "print(my_function(x))\n"
   ]
  },
  {
   "cell_type": "markdown",
   "metadata": {},
   "source": [
    "Question 15"
   ]
  },
  {
   "cell_type": "code",
   "execution_count": 32,
   "metadata": {},
   "outputs": [
    {
     "name": "stdout",
     "output_type": "stream",
     "text": [
      "['T', 'T', 'T', 'N']\n"
     ]
    }
   ],
   "source": [
    "def function_helper(x):\n",
    "    if x > 0:\n",
    "        return 'T'\n",
    "    else:\n",
    "        return 'N'\n",
    "\n",
    "def my_function(data):\n",
    "    res = [function_helper(x) for x in data]\n",
    "    return res\n",
    "\n",
    "data = [10, 0, -10, -1]\n",
    "assert my_function(data) == ['T', 'N', 'N', 'N']\n",
    "\n",
    "data = [2, 3, 5, -1]\n",
    "print(my_function(data))\n"
   ]
  },
  {
   "cell_type": "markdown",
   "metadata": {},
   "source": [
    "Question 16"
   ]
  },
  {
   "cell_type": "code",
   "execution_count": 33,
   "metadata": {},
   "outputs": [
    {
     "name": "stdout",
     "output_type": "stream",
     "text": [
      "[9, 8, 1]\n"
     ]
    }
   ],
   "source": [
    "def function_helper(x, data):\n",
    "    for i in data:\n",
    "        if x == i:\n",
    "            return 0  # Nếu x == i thì return 0\n",
    "    return 1\n",
    "\n",
    "def my_function(data):\n",
    "    res = []\n",
    "    for i in data:\n",
    "        if function_helper(i, res):\n",
    "            res.append(i)\n",
    "    return res\n",
    "\n",
    "lst = [10, 10, 9, 7, 7]\n",
    "assert my_function(lst) == [10, 9, 7]\n",
    "\n",
    "lst = [9, 9, 8, 1, 1]\n",
    "print(my_function(lst))\n"
   ]
  }
 ],
 "metadata": {
  "kernelspec": {
   "display_name": "Python 3",
   "language": "python",
   "name": "python3"
  },
  "language_info": {
   "codemirror_mode": {
    "name": "ipython",
    "version": 3
   },
   "file_extension": ".py",
   "mimetype": "text/x-python",
   "name": "python",
   "nbconvert_exporter": "python",
   "pygments_lexer": "ipython3",
   "version": "3.11.5"
  }
 },
 "nbformat": 4,
 "nbformat_minor": 2
}
