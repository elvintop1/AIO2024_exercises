{
 "cells": [
  {
   "cell_type": "markdown",
   "metadata": {},
   "source": [
    "Question 2"
   ]
  },
  {
   "cell_type": "code",
   "execution_count": 1,
   "metadata": {},
   "outputs": [
    {
     "name": "stdout",
     "output_type": "stream",
     "text": [
      "tensor([0.7054, 0.0351, 0.2595])\n"
     ]
    }
   ],
   "source": [
    "import torch\n",
    "import torch.nn as nn\n",
    "\n",
    "class MySoftmax(nn.Module):\n",
    "    def __init__(self):\n",
    "        super(MySoftmax, self).__init__()\n",
    "\n",
    "    def forward(self, x):\n",
    "        exp_x = torch.exp(x)\n",
    "        return exp_x / torch.sum(exp_x)\n",
    "\n",
    "# Example usage\n",
    "data = torch.Tensor([5, 2, 4])\n",
    "my_softmax = MySoftmax()\n",
    "output = my_softmax(data)\n",
    "assert round(output[-1].item(), 2) == 0.26\n",
    "print(output)\n"
   ]
  },
  {
   "cell_type": "markdown",
   "metadata": {},
   "source": [
    "Question 3"
   ]
  },
  {
   "cell_type": "code",
   "execution_count": 2,
   "metadata": {},
   "outputs": [
    {
     "name": "stdout",
     "output_type": "stream",
     "text": [
      "tensor([0., 0., 1.])\n"
     ]
    }
   ],
   "source": [
    "import torch\n",
    "import torch.nn as nn\n",
    "\n",
    "class MySoftmax(nn.Module):\n",
    "    def __init__(self):\n",
    "        super(MySoftmax, self).__init__()\n",
    "\n",
    "    def forward(self, x):\n",
    "        max_x = torch.max(x)\n",
    "        exp_x = torch.exp(x - max_x)\n",
    "        return exp_x / torch.sum(exp_x)\n",
    "\n",
    "# Example usage\n",
    "data = torch.Tensor([1, 2, 300000000])\n",
    "my_softmax = MySoftmax()\n",
    "output = my_softmax(data)\n",
    "assert round(output[0].item(), 2) == 0.0\n",
    "print(output)\n"
   ]
  },
  {
   "cell_type": "markdown",
   "metadata": {},
   "source": [
    "Question 4"
   ]
  },
  {
   "cell_type": "code",
   "execution_count": 6,
   "metadata": {},
   "outputs": [
    {
     "name": "stdout",
     "output_type": "stream",
     "text": [
      "tensor([0.0900, 0.2447, 0.6652])\n"
     ]
    }
   ],
   "source": [
    "import torch\n",
    "import torch.nn as nn\n",
    "\n",
    "class SoftmaxStable(nn.Module):\n",
    "    def __init__(self):\n",
    "        super(SoftmaxStable, self).__init__()\n",
    "\n",
    "    def forward(self, x):\n",
    "        x_max = torch.max(x, dim=0, keepdim=True)\n",
    "        x_exp = torch.exp(x - x_max.values)\n",
    "        partition = x_exp.sum(dim=0, keepdim=True)\n",
    "        return x_exp / partition\n",
    "\n",
    "# Example usage\n",
    "data = torch.Tensor([1, 2, 3])\n",
    "softmax_stable = SoftmaxStable()\n",
    "output = softmax_stable(data)\n",
    "assert round(output[-1].item(), 2) == 0.67\n",
    "print(output)\n"
   ]
  },
  {
   "cell_type": "markdown",
   "metadata": {},
   "source": [
    "Question 5"
   ]
  },
  {
   "cell_type": "code",
   "execution_count": 7,
   "metadata": {},
   "outputs": [
    {
     "name": "stdout",
     "output_type": "stream",
     "text": [
      "Student - Name: studentZ2023 - YoB: 2011 - Grade: 6\n"
     ]
    }
   ],
   "source": [
    "from abc import ABC, abstractmethod\n",
    "\n",
    "class Person(ABC):\n",
    "    def __init__(self, name: str, yob: int):\n",
    "        self._name = name\n",
    "        self._yob = yob\n",
    "\n",
    "    def get_yob(self):\n",
    "        return self._yob\n",
    "\n",
    "    @abstractmethod\n",
    "    def describe(self):\n",
    "        pass\n",
    "\n",
    "class Student(Person):\n",
    "    def __init__(self, name: str, yob: int, grade: str):\n",
    "        super().__init__(name, yob)\n",
    "        self._grade = grade\n",
    "\n",
    "    def describe(self):\n",
    "        print(f\"Student - Name: {self._name} - YoB: {self._yob} - Grade: {self._grade}\")\n",
    "\n",
    "# Example usage\n",
    "student1 = Student(name=\"studentZ2023\", yob=2011, grade=\"6\")\n",
    "assert student1._yob == 2011\n",
    "student1.describe()\n"
   ]
  },
  {
   "cell_type": "markdown",
   "metadata": {},
   "source": [
    "Question 6"
   ]
  },
  {
   "cell_type": "code",
   "execution_count": 8,
   "metadata": {},
   "outputs": [
    {
     "name": "stdout",
     "output_type": "stream",
     "text": [
      "Teacher - Name: teacherZ2023 - YoB: 1991 - Subject: History\n"
     ]
    }
   ],
   "source": [
    "from abc import ABC, abstractmethod\n",
    "\n",
    "class Person(ABC):\n",
    "    def __init__(self, name: str, yob: int):\n",
    "        self._name = name\n",
    "        self._yob = yob\n",
    "\n",
    "    def get_yob(self):\n",
    "        return self._yob\n",
    "\n",
    "    @abstractmethod\n",
    "    def describe(self):\n",
    "        pass\n",
    "\n",
    "class Teacher(Person):\n",
    "    def __init__(self, name: str, yob: int, subject: str):\n",
    "        super().__init__(name, yob)\n",
    "        self._subject = subject\n",
    "\n",
    "    def describe(self):\n",
    "        print(f\"Teacher - Name: {self._name} - YoB: {self._yob} - Subject: {self._subject}\")\n",
    "\n",
    "# Example usage\n",
    "teacher1 = Teacher(name=\"teacherZ2023\", yob=1991, subject=\"History\")\n",
    "assert teacher1._yob == 1991\n",
    "teacher1.describe()\n"
   ]
  },
  {
   "cell_type": "markdown",
   "metadata": {},
   "source": [
    "Question 7"
   ]
  },
  {
   "cell_type": "code",
   "execution_count": 9,
   "metadata": {},
   "outputs": [
    {
     "name": "stdout",
     "output_type": "stream",
     "text": [
      "Doctor - Name: doctorZ2023 - YoB: 1981 - Specialist: Endocrinologists\n"
     ]
    }
   ],
   "source": [
    "from abc import ABC, abstractmethod\n",
    "\n",
    "class Person(ABC):\n",
    "    def __init__(self, name: str, yob: int):\n",
    "        self._name = name\n",
    "        self._yob = yob\n",
    "\n",
    "    def get_yob(self):\n",
    "        return self._yob\n",
    "\n",
    "    @abstractmethod\n",
    "    def describe(self):\n",
    "        pass\n",
    "\n",
    "class Doctor(Person):\n",
    "    def __init__(self, name: str, yob: int, specialist: str):\n",
    "        super().__init__(name, yob)\n",
    "        self._specialist = specialist\n",
    "\n",
    "    def describe(self):\n",
    "        print(f\"Doctor - Name: {self._name} - YoB: {self._yob} - Specialist: {self._specialist}\")\n",
    "\n",
    "# Example usage\n",
    "doctor1 = Doctor(name=\"doctorZ2023\", yob=1981, specialist=\"Endocrinologists\")\n",
    "assert doctor1._yob == 1981\n",
    "doctor1.describe()\n"
   ]
  },
  {
   "cell_type": "markdown",
   "metadata": {},
   "source": [
    "Question 8"
   ]
  },
  {
   "cell_type": "code",
   "execution_count": 10,
   "metadata": {},
   "outputs": [
    {
     "name": "stdout",
     "output_type": "stream",
     "text": [
      "Ward Name: Ward1\n",
      "Student - Name: studentA - YoB: 2010 - Grade: 7\n",
      "Teacher - Name: teacherA - YoB: 1969 - Subject: Math\n",
      "Teacher - Name: teacherB - YoB: 1995 - Subject: History\n",
      "Doctor - Name: doctorA - YoB: 1945 - Specialist: Endocrinologists\n",
      "Doctor - Name: doctorB - YoB: 1975 - Specialist: Cardiologists\n",
      "Number of doctors: 2\n"
     ]
    }
   ],
   "source": [
    "from abc import ABC, abstractmethod\n",
    "\n",
    "class Person(ABC):\n",
    "    def __init__(self, name: str, yob: int):\n",
    "        self._name = name\n",
    "        self._yob = yob\n",
    "\n",
    "    def get_yob(self):\n",
    "        return self._yob\n",
    "\n",
    "    @abstractmethod\n",
    "    def describe(self):\n",
    "        pass\n",
    "\n",
    "class Student(Person):\n",
    "    def __init__(self, name: str, yob: int, grade: str):\n",
    "        super().__init__(name, yob)\n",
    "        self._grade = grade\n",
    "\n",
    "    def describe(self):\n",
    "        print(f\"Student - Name: {self._name} - YoB: {self._yob} - Grade: {self._grade}\")\n",
    "\n",
    "class Teacher(Person):\n",
    "    def __init__(self, name: str, yob: int, subject: str):\n",
    "        super().__init__(name, yob)\n",
    "        self._subject = subject\n",
    "\n",
    "    def describe(self):\n",
    "        print(f\"Teacher - Name: {self._name} - YoB: {self._yob} - Subject: {self._subject}\")\n",
    "\n",
    "class Doctor(Person):\n",
    "    def __init__(self, name: str, yob: int, specialist: str):\n",
    "        super().__init__(name, yob)\n",
    "        self._specialist = specialist\n",
    "\n",
    "    def describe(self):\n",
    "        print(f\"Doctor - Name: {self._name} - YoB: {self._yob} - Specialist: {self._specialist}\")\n",
    "\n",
    "class Ward:\n",
    "    def __init__(self, name: str):\n",
    "        self.__name = name\n",
    "        self.__listPeople = list()\n",
    "\n",
    "    def add_person(self, person: Person):\n",
    "        self.__listPeople.append(person)\n",
    "\n",
    "    def describe(self):\n",
    "        print(f\"Ward Name: {self.__name}\")\n",
    "        for p in self.__listPeople:\n",
    "            p.describe()\n",
    "\n",
    "    def count_doctor(self):\n",
    "        return sum(1 for p in self.__listPeople if isinstance(p, Doctor))\n",
    "\n",
    "# Example usage\n",
    "student1 = Student(name=\"studentA\", yob=2010, grade=\"7\")\n",
    "teacher1 = Teacher(name=\"teacherA\", yob=1969, subject=\"Math\")\n",
    "teacher2 = Teacher(name=\"teacherB\", yob=1995, subject=\"History\")\n",
    "doctor1 = Doctor(name=\"doctorA\", yob=1945, specialist=\"Endocrinologists\")\n",
    "doctor2 = Doctor(name=\"doctorB\", yob=1975, specialist=\"Cardiologists\")\n",
    "\n",
    "ward1 = Ward(name=\"Ward1\")\n",
    "ward1.add_person(student1)\n",
    "ward1.add_person(teacher1)\n",
    "ward1.add_person(teacher2)\n",
    "ward1.add_person(doctor1)\n",
    "ward1.add_person(doctor2)\n",
    "\n",
    "ward1.describe()\n",
    "print(f\"Number of doctors: {ward1.count_doctor()}\")\n"
   ]
  },
  {
   "cell_type": "markdown",
   "metadata": {},
   "source": [
    "Question 9"
   ]
  },
  {
   "cell_type": "code",
   "execution_count": 11,
   "metadata": {},
   "outputs": [
    {
     "name": "stdout",
     "output_type": "stream",
     "text": [
      "False\n"
     ]
    }
   ],
   "source": [
    "class MyStack:\n",
    "    def __init__(self, capacity):\n",
    "        self.__capacity = capacity\n",
    "        self.__stack = []\n",
    "\n",
    "    def is_full(self):\n",
    "        return len(self.__stack) == self.__capacity\n",
    "\n",
    "    def push(self, value):\n",
    "        if self.is_full():\n",
    "            raise OverflowError(\"Stack is full\")\n",
    "        self.__stack.append(value)\n",
    "\n",
    "# Example usage\n",
    "stack1 = MyStack(capacity=5)\n",
    "stack1.push(1)\n",
    "assert stack1.is_full() == False\n",
    "stack1.push(2)\n",
    "print(stack1.is_full())  # False\n"
   ]
  },
  {
   "cell_type": "markdown",
   "metadata": {},
   "source": [
    "Question 10"
   ]
  },
  {
   "cell_type": "code",
   "execution_count": 12,
   "metadata": {},
   "outputs": [
    {
     "name": "stdout",
     "output_type": "stream",
     "text": [
      "2\n"
     ]
    }
   ],
   "source": [
    "class MyStack:\n",
    "    def __init__(self, capacity):\n",
    "        self.__capacity = capacity\n",
    "        self.__stack = []\n",
    "\n",
    "    def is_empty(self):\n",
    "        return len(self.__stack) == 0\n",
    "\n",
    "    def is_full(self):\n",
    "        return len(self.__stack) == self.__capacity\n",
    "\n",
    "    def push(self, value):\n",
    "        if self.is_full():\n",
    "            raise OverflowError(\"Stack is full\")\n",
    "        self.__stack.append(value)\n",
    "\n",
    "    def top(self):\n",
    "        if self.is_empty():\n",
    "            raise IndexError(\"Stack is empty\")\n",
    "        return self.__stack[-1]\n",
    "\n",
    "# Example usage\n",
    "stack1 = MyStack(capacity=5)\n",
    "stack1.push(1)\n",
    "assert stack1.is_full() == False\n",
    "stack1.push(2)\n",
    "print(stack1.top())  # 2\n"
   ]
  },
  {
   "cell_type": "markdown",
   "metadata": {},
   "source": [
    "Question 11"
   ]
  },
  {
   "cell_type": "code",
   "execution_count": 13,
   "metadata": {},
   "outputs": [
    {
     "name": "stdout",
     "output_type": "stream",
     "text": [
      "False\n"
     ]
    }
   ],
   "source": [
    "class MyQueue:\n",
    "    def __init__(self, capacity):\n",
    "        self.__capacity = capacity\n",
    "        self.__queue = []\n",
    "\n",
    "    def is_full(self):\n",
    "        return len(self.__queue) == self.__capacity\n",
    "\n",
    "    def enqueue(self, value):\n",
    "        if self.is_full():\n",
    "            raise OverflowError(\"Queue is full\")\n",
    "        self.__queue.append(value)\n",
    "\n",
    "# Example usage\n",
    "queue1 = MyQueue(capacity=5)\n",
    "queue1.enqueue(1)\n",
    "assert queue1.is_full() == False\n",
    "queue1.enqueue(2)\n",
    "print(queue1.is_full())  # False\n"
   ]
  },
  {
   "cell_type": "markdown",
   "metadata": {},
   "source": [
    "Question 12"
   ]
  },
  {
   "cell_type": "code",
   "execution_count": 14,
   "metadata": {},
   "outputs": [
    {
     "name": "stdout",
     "output_type": "stream",
     "text": [
      "1\n"
     ]
    }
   ],
   "source": [
    "class MyQueue:\n",
    "    def __init__(self, capacity):\n",
    "        self.__capacity = capacity\n",
    "        self.__queue = []\n",
    "\n",
    "    def is_empty(self):\n",
    "        return len(self.__queue) == 0\n",
    "\n",
    "    def is_full(self):\n",
    "        return len(self.__queue) == self.__capacity\n",
    "\n",
    "    def enqueue(self, value):\n",
    "        if self.is_full():\n",
    "            raise OverflowError(\"Queue is full\")\n",
    "        self.__queue.append(value)\n",
    "\n",
    "    def dequeue(self):\n",
    "        if self.is_empty():\n",
    "            raise IndexError(\"Dequeue from empty queue\")\n",
    "        return self.__queue.pop(0)\n",
    "\n",
    "    def front(self):\n",
    "        if self.is_empty():\n",
    "            raise IndexError(\"Front from empty queue\")\n",
    "        return self.__queue[0]\n",
    "\n",
    "# Example usage\n",
    "queue1 = MyQueue(capacity=5)\n",
    "queue1.enqueue(1)\n",
    "assert queue1.is_full() == False\n",
    "queue1.enqueue(2)\n",
    "print(queue1.front())  # 1\n"
   ]
  }
 ],
 "metadata": {
  "kernelspec": {
   "display_name": "Python 3",
   "language": "python",
   "name": "python3"
  },
  "language_info": {
   "codemirror_mode": {
    "name": "ipython",
    "version": 3
   },
   "file_extension": ".py",
   "mimetype": "text/x-python",
   "name": "python",
   "nbconvert_exporter": "python",
   "pygments_lexer": "ipython3",
   "version": "3.11.5"
  }
 },
 "nbformat": 4,
 "nbformat_minor": 2
}
